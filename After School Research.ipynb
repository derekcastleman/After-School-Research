{
 "cells": [
  {
   "cell_type": "code",
   "execution_count": null,
   "id": "ebefd5f9",
   "metadata": {},
   "outputs": [],
   "source": [
    "import numpy as np\n",
    "import pandas as pd"
   ]
  },
  {
   "cell_type": "code",
   "execution_count": null,
   "id": "684fd621",
   "metadata": {},
   "outputs": [],
   "source": [
    "roster = pd.read_excel(r\"C:\\Users\\derek.castleman\\Desktop\\Angela After School\\Lost Hills Tutoring Students.xlsx\")\n",
    "ribbons = pd.read_excel(r\"C:\\Users\\derek.castleman\\Desktop\\Angela After School\\Practice\\Practice Ribbons.xlsx\")\n",
    "roster"
   ]
  },
  {
   "cell_type": "code",
   "execution_count": null,
   "id": "baa0c236",
   "metadata": {},
   "outputs": [],
   "source": [
    "roster['Entry Date']= pd.to_datetime(roster['Entry Date'])\n",
    "roster"
   ]
  },
  {
   "cell_type": "code",
   "execution_count": null,
   "id": "17ccac7d",
   "metadata": {},
   "outputs": [],
   "source": [
    "b = input('What is the end date you are interested in (mm/dd/yyyy):          ') "
   ]
  },
  {
   "cell_type": "code",
   "execution_count": null,
   "id": "8edfb3b7",
   "metadata": {},
   "outputs": [],
   "source": [
    "b = pd.to_datetime(b) # Turn end date to date time\n",
    "b"
   ]
  },
  {
   "cell_type": "code",
   "execution_count": null,
   "id": "b53e25c8",
   "metadata": {},
   "outputs": [],
   "source": [
    "roster['End Date'] = b\n",
    "roster"
   ]
  },
  {
   "cell_type": "code",
   "execution_count": null,
   "id": "fc260d8f",
   "metadata": {},
   "outputs": [],
   "source": [
    "roster['Days'] = (roster['End Date'] - roster['Entry Date'])\n",
    "roster"
   ]
  },
  {
   "cell_type": "code",
   "execution_count": null,
   "id": "19ebe6b2",
   "metadata": {},
   "outputs": [],
   "source": [
    "roster.info()"
   ]
  },
  {
   "cell_type": "code",
   "execution_count": null,
   "id": "d15b0666",
   "metadata": {},
   "outputs": [],
   "source": [
    "roster['Seconds'] = roster['Days'].dt.total_seconds().astype(int)\n",
    "roster"
   ]
  },
  {
   "cell_type": "code",
   "execution_count": null,
   "id": "6c666eae",
   "metadata": {},
   "outputs": [],
   "source": [
    "roster['Weeks'] = roster['Seconds'] / 604800\n",
    "roster"
   ]
  },
  {
   "cell_type": "code",
   "execution_count": null,
   "id": "16f3903c",
   "metadata": {},
   "outputs": [],
   "source": [
    "roster['Weeks'] = np.ceil(roster['Weeks'])\n",
    "roster"
   ]
  },
  {
   "cell_type": "code",
   "execution_count": null,
   "id": "05e903a4",
   "metadata": {},
   "outputs": [],
   "source": [
    "columns_to_drop = ['Days', 'Seconds']\n",
    "roster = roster.drop(columns=columns_to_drop)\n",
    "roster"
   ]
  },
  {
   "cell_type": "code",
   "execution_count": null,
   "id": "e25b3e5c",
   "metadata": {},
   "outputs": [],
   "source": [
    "ribbons"
   ]
  },
  {
   "cell_type": "code",
   "execution_count": null,
   "id": "a24d92f1",
   "metadata": {},
   "outputs": [],
   "source": [
    "merge = pd.merge(roster, ribbons, how='left', left_on='Student ID', right_on='SIS Primary Key')\n",
    "merge"
   ]
  },
  {
   "cell_type": "code",
   "execution_count": null,
   "id": "46210175",
   "metadata": {},
   "outputs": [],
   "source": [
    "merge['Math per Week'] = merge['Math'] / merge['Weeks']\n",
    "merge['Math per Week'] = merge['Math per Week'].round(2)\n",
    "merge['ELA per Week'] = merge['Reading'] / merge['Weeks']\n",
    "merge['ELA per Week'] = merge['ELA per Week'].round(2)\n",
    "merge"
   ]
  },
  {
   "cell_type": "code",
   "execution_count": null,
   "id": "f11217a9",
   "metadata": {},
   "outputs": [],
   "source": [
    "columns_to_drop = ['User', 'SIS Primary Key']\n",
    "merge = merge.drop(columns=columns_to_drop)\n",
    "merge"
   ]
  },
  {
   "cell_type": "code",
   "execution_count": null,
   "id": "92d2fda1",
   "metadata": {},
   "outputs": [],
   "source": [
    "import base64\n",
    "from IPython.display import HTML\n",
    "\n",
    "def create_download_link( df, title = \"After School\", filename = \"After School\"):\n",
    "    csv = df.to_csv(index=False)\n",
    "    b64 = base64.b64encode(csv.encode())\n",
    "    payload = b64.decode()\n",
    "    html = '<a download=\"{filename}\" href=\"data:text/csv;base64,{payload}\" target=\"_blank\">{title}</a>'\n",
    "    html = html.format(payload=payload,title=title,filename=filename)\n",
    "    return HTML(html)\n",
    "\n",
    "create_download_link(merge)"
   ]
  },
  {
   "cell_type": "code",
   "execution_count": null,
   "id": "9f34faac",
   "metadata": {},
   "outputs": [],
   "source": []
  }
 ],
 "metadata": {
  "kernelspec": {
   "display_name": "Python 3 (ipykernel)",
   "language": "python",
   "name": "python3"
  },
  "language_info": {
   "codemirror_mode": {
    "name": "ipython",
    "version": 3
   },
   "file_extension": ".py",
   "mimetype": "text/x-python",
   "name": "python",
   "nbconvert_exporter": "python",
   "pygments_lexer": "ipython3",
   "version": "3.9.7"
  }
 },
 "nbformat": 4,
 "nbformat_minor": 5
}
